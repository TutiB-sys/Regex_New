{
 "cells": [
  {
   "cell_type": "markdown",
   "metadata": {},
   "source": [
    "# Regular Expressions"
   ]
  },
  {
   "cell_type": "code",
   "execution_count": 2,
   "metadata": {},
   "outputs": [],
   "source": [
    "# import re\n",
    "import re"
   ]
  },
  {
   "cell_type": "code",
   "execution_count": 42,
   "metadata": {},
   "outputs": [
    {
     "name": "stdout",
     "output_type": "stream",
     "text": [
      "jordanw@codingtemple.orgcom\n",
      "pocohontas1776@gmail.com\n",
      "helloworld@aol..com\n",
      "yourfavoriteband@g6.org\n",
      "None\n"
     ]
    }
   ],
   "source": [
    "#Finding the vaild email\n",
    "\n",
    "import re   \n",
    "my_emails = [\"jordanw@codingtemple.orgcom\", \"pocohontas1776@gmail.com\", \"helloworld@aol..com\", \"yourfavoriteband@g6.org\", \"@codingtemple.com\"]  \n",
    "   \n",
    "pattern_email= re.compile('^([a-zA-Z0-9_\\.-]+)@([a-zA-Z0-9_\\.-]+)\\.([a-zA-Z\\.]{2,6})$')\n",
    "\n",
    "def find(email):\n",
    "    find_email=pattern_email.findall(email)\n",
    "  \n",
    "    if(find_email):   \n",
    "        return email   \n",
    "    else:   \n",
    "        return None \n",
    "\n",
    "for i in my_emails:\n",
    "    vaild_email=find(i)\n",
    "    print(vaild_email)\n",
    "   \n",
    "\n",
    "    \n",
    "\n",
    "\n",
    "#Expected output:\n",
    "#None\n",
    "#pocohontas1776@gmail.com\n",
    "#None\n",
    "#yourfavoriteband@g6.org\n",
    "#None\n",
    "\n",
    "\n"
   ]
  },
  {
   "cell_type": "markdown",
   "metadata": {},
   "source": [
    "\n",
    "<p>Printing each persons name and twitter handle, using groups, should look like:</p>\n",
    "<p>==============<br>\n",
    "   Full Name / Twitter<br>\n",
    "   ==============</p>\n",
    "Derek Hawkins / @derekhawkins\n",
    "\n",
    " Erik Sven-Osterberg / @sverik\n",
    "\n",
    " Ryan Butz / @ryanbutz\n",
    "\n",
    " Example Exampleson / @example\n",
    "\n",
    " Ripal Pael / @ripalp\n",
    "\n",
    " Darth Vader / @darthvader"
   ]
  },
  {
   "cell_type": "code",
   "execution_count": 18,
   "metadata": {},
   "outputs": [
    {
     "name": "stdout",
     "output_type": "stream",
     "text": [
      "===========================\n",
      "Full Name / Twitter\n",
      "===========================\n",
      "Derek Hawkins / @derekhawkins\n",
      "Sven-Erik Osterberg / @sverik\n",
      "Ryan Butz / @ryanbutz\n",
      "Example Exampleson / @example\n",
      "Ripal Pael / @ripalp\n",
      "Darth Vader / @darthvader\n"
     ]
    }
   ],
   "source": [
    "import re\n",
    "with open('names.txt') as f:\n",
    "    data = f.readlines()\n",
    "    \n",
    "name = re.compile('(?P<last>[A-Z][A-Za-z]+), (?P<first>[A-Z][A-Za-z]+-?[A-Za-z]+)')\n",
    "twitter_handle = re.compile('(?P<twitter>@\\w+)\\s')\n",
    "print(\"===========================\")\n",
    "print(\"Full Name / Twitter\")\n",
    "print(\"===========================\")\n",
    "for line in data:\n",
    "    match = full_name.search(line)\n",
    "    match_2 = twitter_handle.search(line)\n",
    "     \n",
    "    if match and match_2:\n",
    "       \n",
    "        print(f\"{match.group('first')} {match.group('last')} / {match_2.group('twitter')}\")"
   ]
  },
  {
   "cell_type": "markdown",
   "metadata": {},
   "source": [
    "### Regex project\n",
    "\n"
   ]
  },
  {
   "cell_type": "code",
   "execution_count": 28,
   "metadata": {},
   "outputs": [
    {
     "name": "stdout",
     "output_type": "stream",
     "text": [
      "Abraham Lincoln\n",
      "\n",
      "Andrew P Garfield\n",
      "Connor Milliken\n",
      "\n",
      "Jordan Alexander Williams\n",
      "None\n",
      "None\n"
     ]
    }
   ],
   "source": [
    "\n",
    "    \n",
    "with open('regex_test.txt') as f:\n",
    "    txt = f.readlines()\n",
    "\n",
    "pattern=re.compile(r'[A-Z][a-z]*\\s[A-Za-z]*\\s[A-aZ-z]*')    \n",
    "for line in txt:\n",
    "    match = pattern.match(line)\n",
    "    if match:\n",
    "          print(f'{match.group(0)}')\n",
    "    else:\n",
    "        print('None')\n",
    "        \n",
    "\n",
    "\n",
    "# \"\"\"\n",
    "# Expected Output\n",
    "# Abraham Lincoln\n",
    "# Andrew P Garfield\n",
    "# Connor Milliken\n",
    "# Jordan Alexander Williams\n",
    "# None\n",
    "# None\n",
    "# \"\"\""
   ]
  },
  {
   "cell_type": "code",
   "execution_count": null,
   "metadata": {},
   "outputs": [],
   "source": []
  }
 ],
 "metadata": {
  "kernelspec": {
   "display_name": "Python 3 (ipykernel)",
   "language": "python",
   "name": "python3"
  },
  "language_info": {
   "codemirror_mode": {
    "name": "ipython",
    "version": 3
   },
   "file_extension": ".py",
   "mimetype": "text/x-python",
   "name": "python",
   "nbconvert_exporter": "python",
   "pygments_lexer": "ipython3",
   "version": "3.11.5"
  }
 },
 "nbformat": 4,
 "nbformat_minor": 2
}
