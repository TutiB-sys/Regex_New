{
 "cells": [
  {
   "cell_type": "markdown",
   "metadata": {},
   "source": [
    "# Regular Expressions"
   ]
  },
  {
   "cell_type": "markdown",
   "metadata": {},
   "source": [
    "# Tasks today:\n",
    "1) <b>Importing</b> <br>\n",
    "2) <b>Using Regular Expressions</b> <br>\n",
    " &nbsp;&nbsp;&nbsp;&nbsp; a) re.compile() <br>\n",
    " &nbsp;&nbsp;&nbsp;&nbsp; b) re.match() <br>\n",
    " &nbsp;&nbsp;&nbsp;&nbsp; c) re.findall() <br>\n",
    " &nbsp;&nbsp;&nbsp;&nbsp; d) re.search() <br>\n",
    "3) <b>Sets</b> <br>\n",
    " &nbsp;&nbsp;&nbsp;&nbsp; a) Integer Ranges <br>\n",
    " &nbsp;&nbsp;&nbsp;&nbsp; b) Character Ranges <br>\n",
    "4) <b>Counting Occurences</b> <br>\n",
    " &nbsp;&nbsp;&nbsp;&nbsp; a) {x} <br>\n",
    " &nbsp;&nbsp;&nbsp;&nbsp; b) {, x} <br>\n",
    " &nbsp;&nbsp;&nbsp;&nbsp; c) {?} <br>\n",
    " &nbsp;&nbsp;&nbsp;&nbsp; d) {*} <br>\n",
    " &nbsp;&nbsp;&nbsp;&nbsp; e) {+} <br>\n",
    "5) <b>In-Class Exercise #1</b> <br>\n",
    "6) <b>Escaping Characters</b> <br>\n",
    "7) <b>Grouping</b> <br>\n",
    "8) <b>In-Class Exercise #2</b> <br>\n",
    "9) <b>Opening a File</b> <br>\n",
    " &nbsp;&nbsp;&nbsp;&nbsp; a) open() <br>\n",
    " &nbsp;&nbsp;&nbsp;&nbsp; b) with open() <br>\n",
    " &nbsp;&nbsp;&nbsp;&nbsp; c) re.match() <br>\n",
    " &nbsp;&nbsp;&nbsp;&nbsp; d) re.search() <br>\n",
    " &nbsp;&nbsp;&nbsp;&nbsp; e) Store the String in a Variable <br>\n",
    "10) <b>Regex Project</b> <br>"
   ]
  },
  {
   "cell_type": "markdown",
   "metadata": {},
   "source": [
    "### Importing <br>\n",
    "<p>Regular Expressions are universal throughout most programming languages... They are generally imported through the module 're'.</p>"
   ]
  },
  {
   "cell_type": "code",
   "execution_count": 2,
   "metadata": {},
   "outputs": [],
   "source": [
    "# import re\n",
    "import re"
   ]
  },
  {
   "cell_type": "code",
   "execution_count": null,
   "metadata": {},
   "outputs": [],
   "source": [
    "https://regex101.com/ # a sourse to look"
   ]
  },
  {
   "cell_type": "markdown",
   "metadata": {},
   "source": [
    "### Using Regular Expressions <br>\n",
    "<p>Regular expressions give us the ability to search for patterns within text, strings, files, etc. They serve several uses, such as; security measures, searching, filtering, pattern recognition, and more...</p>"
   ]
  },
  {
   "cell_type": "markdown",
   "metadata": {},
   "source": [
    "##### re.compile()"
   ]
  },
  {
   "cell_type": "code",
   "execution_count": 4,
   "metadata": {},
   "outputs": [],
   "source": [
    "# using compile, pre determines the string to be used in regular expression methods\n",
    "\n",
    "pattern=re.compile('abcd') # 'abcd'is the string in which it "
   ]
  },
  {
   "cell_type": "markdown",
   "metadata": {},
   "source": [
    "##### re.match()"
   ]
  },
  {
   "cell_type": "code",
   "execution_count": 5,
   "metadata": {},
   "outputs": [
    {
     "name": "stdout",
     "output_type": "stream",
     "text": [
      "<re.Match object; span=(0, 4), match='abcd'>\n",
      "(0, 4)\n"
     ]
    }
   ],
   "source": [
    "#match=pattern.match(some string goes here)\n",
    "match=pattern.match('abcd123')\n",
    "print(match)\n",
    "print(match.span())\n",
    "# Accessing the span of the match\n"
   ]
  },
  {
   "cell_type": "markdown",
   "metadata": {},
   "source": [
    "##### re.findall()"
   ]
  },
  {
   "cell_type": "code",
   "execution_count": 7,
   "metadata": {},
   "outputs": [
    {
     "name": "stdout",
     "output_type": "stream",
     "text": [
      "Help on function findall in module re:\n",
      "\n",
      "findall(pattern, string, flags=0)\n",
      "    Return a list of all non-overlapping matches in the string.\n",
      "    \n",
      "    If one or more capturing groups are present in the pattern, return\n",
      "    a list of groups; this will be a list of tuples if the pattern\n",
      "    has more than one group.\n",
      "    \n",
      "    Empty matches are included in the result.\n",
      "\n",
      "['abcd', 'abcd', 'abcd']\n"
     ]
    }
   ],
   "source": [
    "help(re.findall)\n",
    "finders=pattern.findall('123abcd abcd123 abcd abcabc acb')\n",
    "print(finders)"
   ]
  },
  {
   "cell_type": "markdown",
   "metadata": {},
   "source": [
    "##### re.search()"
   ]
  },
  {
   "cell_type": "code",
   "execution_count": 10,
   "metadata": {},
   "outputs": [
    {
     "name": "stdout",
     "output_type": "stream",
     "text": [
      "<re.Match object; span=(12, 16), match='abcd'>\n",
      "(12, 16)\n",
      "(12, 16) <class 'tuple'>\n",
      "abcd\n",
      "234 \n"
     ]
    }
   ],
   "source": [
    "# help(re.search)\n",
    "\n",
    "\n",
    "random_string='123 123 234 abcd abc'\n",
    "search=pattern.search(random_string)\n",
    "print(search)\n",
    "span=search.span()# it only prints the span\n",
    "print(span)\n",
    "print(span, type(span))\n",
    "print(random_string[span[0] : span[1]]) # it referes to the span(12,16) 0 goes to 12 and 1 to 16\n",
    "print(random_string[8:12])                   \n",
    "                    "
   ]
  },
  {
   "cell_type": "markdown",
   "metadata": {},
   "source": [
    "### Sets <br>\n",
    "<p>The following cells will allow you to use regular expressions to search for certain values within a range such as numbers 1 through 4.</p>"
   ]
  },
  {
   "cell_type": "markdown",
   "metadata": {},
   "source": [
    "##### [a-z] or [A-Z] - any lowercase/uppercase letters from a to z<br/>[^2] - anything that's not 2"
   ]
  },
  {
   "cell_type": "markdown",
   "metadata": {},
   "source": [
    "##### Integer Ranges"
   ]
  },
  {
   "cell_type": "code",
   "execution_count": 25,
   "metadata": {},
   "outputs": [
    {
     "name": "stdout",
     "output_type": "stream",
     "text": [
      "<re.Match object; span=(2, 5), match='383'>\n",
      "(2, 5)\n",
      "383\n"
     ]
    }
   ],
   "source": [
    "# pattern_int=re.compile('[0-7][7-9][0-3]') # it looks on the range of the three section and find the my_nums and print them\n",
    "pattern_int=re.compile('[0-3][0-9][0-3]')\n",
    "\n",
    "\n",
    "# random_numbers=pattern_int.search('67383')\n",
    "# print(random_numbers[span[0]])\n",
    "\n",
    "my_nums='67383'\n",
    "random_numbers=pattern_int.search(my_nums)\n",
    "print(random_numbers)\n",
    "span=random_numbers.span()\n",
    "print(span)\n",
    "print(my_nums[span[0]:span[1]])\n",
    "\n",
    "\n",
    "\n",
    "\n"
   ]
  },
  {
   "cell_type": "markdown",
   "metadata": {},
   "source": [
    "##### Character Ranges"
   ]
  },
  {
   "cell_type": "code",
   "execution_count": 19,
   "metadata": {},
   "outputs": [
    {
     "name": "stdout",
     "output_type": "stream",
     "text": [
      "['He', 'Th', 'Mr', 'An']\n",
      "Help on function compile in module re:\n",
      "\n",
      "compile(pattern, flags=0)\n",
      "    Compile a regular expression pattern, returning a Pattern object.\n",
      "\n"
     ]
    }
   ],
   "source": [
    "char_pattern=re.compile('[A-Z][a-z]')\n",
    "found =char_pattern.findall('He There Mr.Anderson')\n",
    "print(found)\n",
    "\n",
    "help(re.compile)"
   ]
  },
  {
   "cell_type": "markdown",
   "metadata": {},
   "source": [
    "### Counting Occurences"
   ]
  },
  {
   "cell_type": "markdown",
   "metadata": {},
   "source": [
    "##### {x} - something that occurs {num_of_times}"
   ]
  },
  {
   "cell_type": "code",
   "execution_count": 32,
   "metadata": {},
   "outputs": [
    {
     "name": "stdout",
     "output_type": "stream",
     "text": [
      "['An33']\n",
      "['A3dd']\n"
     ]
    }
   ],
   "source": [
    "char_pattern_count=re.compile('[A-Z][a-z][[0-3]{2}')  # {2} is the number of times the digits occur\n",
    "found_count=char_pattern_count.findall('Helloo Mr An33derson')\n",
    "print(found_count)\n",
    "\n",
    "char_pattern_count=re.compile('[A-Z][[0-3][a-z]{2}')\n",
    "found_count=char_pattern_count.findall('Helloo Mr A3dderson')\n",
    "print(found_count)"
   ]
  },
  {
   "cell_type": "markdown",
   "metadata": {},
   "source": [
    "##### {x, x} - something that occurs between x and x times"
   ]
  },
  {
   "cell_type": "code",
   "execution_count": 38,
   "metadata": {},
   "outputs": [
    {
     "name": "stdout",
     "output_type": "stream",
     "text": [
      "['m', 'm', 'm', 'mmm', 'm', 'mmmmm', 'mmm']\n"
     ]
    }
   ],
   "source": [
    "random_pattern=re.compile('m{1,5}')\n",
    "random_statement=random_pattern.findall('This is an example of a regular expression trying to find one m, more than one mmm, or more than five mmmmmmmms')\n",
    "print(random_statement)"
   ]
  },
  {
   "cell_type": "markdown",
   "metadata": {},
   "source": [
    "##### ? - something that occurs 0 or 1 time"
   ]
  },
  {
   "cell_type": "code",
   "execution_count": 40,
   "metadata": {},
   "outputs": [
    {
     "name": "stdout",
     "output_type": "stream",
     "text": [
      "['Mrs']\n",
      "['Mrss']\n"
     ]
    }
   ],
   "source": [
    "pattern=re.compile('Mrss?')# the ? sign gives an option to the last char not necessary to be printed out if it doesnot exist\n",
    "found_pat=pattern.findall('Hello M ther Mr.Anderson,Mid how is Mrs.Anderson, and Ms.Anderson?')\n",
    "print(found_pat)\n",
    "\n",
    "pattern=re.compile('Mrss?')# the ? sign gives an option to the last char not necessary to be printed out\n",
    "found_pat=pattern.findall('Hello M ther Mr.Anderson,Mid how is Mrss.Anderson, and Ms.Anderson?')\n",
    "print(found_pat)"
   ]
  },
  {
   "cell_type": "markdown",
   "metadata": {},
   "source": [
    "##### * - something that occurs at least 0 times"
   ]
  },
  {
   "cell_type": "code",
   "execution_count": 42,
   "metadata": {},
   "outputs": [
    {
     "name": "stdout",
     "output_type": "stream",
     "text": [
      "['MMMs', 's', 'Ms', 's', 's', 'Ms', 's', 's', 's', 's']\n"
     ]
    }
   ],
   "source": [
    "pattern=re.compile('M*s') # The * sign give the letter M not to be printed out if it exist 0(doest not exist)\n",
    "found_m=pattern.findall('MMMs name is Ms Smith. This is Msssss')\n",
    "print(found_m)"
   ]
  },
  {
   "cell_type": "markdown",
   "metadata": {},
   "source": [
    "##### + - something that occurs at least once"
   ]
  },
  {
   "cell_type": "code",
   "execution_count": 44,
   "metadata": {},
   "outputs": [
    {
     "name": "stdout",
     "output_type": "stream",
     "text": [
      "['s', 'Ms', 's', 's', 'MMMMMMMs', 's']\n"
     ]
    }
   ],
   "source": [
    "pattern_again=re.compile('M+s')# it makes print the M at least if it exist once and the precceding value once \n",
    "found_patt=pattern.findall('My name is Ms. Smith. This is MMMMMMMss' )\n",
    "print(found_patt)\n"
   ]
  },
  {
   "cell_type": "markdown",
   "metadata": {},
   "source": [
    "##### In-class exercise 1: \n",
    "\n",
    "Use a regular expression to find every number in the given string"
   ]
  },
  {
   "cell_type": "code",
   "execution_count": 61,
   "metadata": {},
   "outputs": [
    {
     "name": "stdout",
     "output_type": "stream",
     "text": [
      "['10909090', '1', '2']\n",
      "['10909090', '1', '2']\n"
     ]
    }
   ],
   "source": [
    "# pattern=re.compile('[10000000-10110000][0-2][0-3]')\n",
    "\n",
    "# my_string=re.compile('This string has 10909090 numbers, but it is only 1 string. I hope you solve this 2day.')\n",
    "# find_nums= my_string.findall('\\d+',my_string)\n",
    "# list_nums=[]\n",
    "# for i in find_nums:\n",
    "#     list_nums.append(i)\n",
    "# print(list_nums)\n",
    "# #out_put= ['10909090', '1', 2]\n",
    "\n",
    "\n",
    "my_string='This string has 10909090 numbers, but it is only 1 string. I hope you solve this 2day.'\n",
    "find_nums=re.findall('\\d+', my_string)\n",
    "list_nums=[]\n",
    "for i in find_nums:\n",
    "    list_nums.append(i)\n",
    "print(list_nums)\n",
    "\n",
    "pattern=re.compile('[\\d]+')\n",
    "find_num=pattern.findall('This string has 10909090 numbers, but it is only 1 string. I hope you solve this 2day.')\n",
    "list_num=[]\n",
    "for i in find_num:\n",
    "    list_num.append(i)\n",
    "print(list_num)\n",
    "\n",
    "\n"
   ]
  },
  {
   "cell_type": "markdown",
   "metadata": {},
   "source": [
    "### Escaping Characters"
   ]
  },
  {
   "cell_type": "markdown",
   "metadata": {},
   "source": [
    "##### \\w - look for any Unicode character<br/>\\W - look for anything that isnt a Unicode character\n",
    "\n",
    "[History on Unicode](http://unicode.org/standard/WhatIsUnicode.html)\n",
    "\n",
    "[More on Unicode Characters](https://en.wikipedia.org/wiki/List_of_Unicode_characters)"
   ]
  },
  {
   "cell_type": "code",
   "execution_count": 63,
   "metadata": {},
   "outputs": [
    {
     "name": "stdout",
     "output_type": "stream",
     "text": [
      "['This', 'is', 'a', 'sentence', 'With', 'an', 'exclamination', 'mark', 'at', 'the', 'end']\n",
      "[' ', ' ', ' ', '. ', ' ', ', ', ' ', ' ', ' ', ' ']\n"
     ]
    }
   ],
   "source": [
    "pattern_1=re.compile('[\\w]+')\n",
    "pattern_2=re.compile('[\\W]+')\n",
    "\n",
    "found_1= pattern_1.findall('This is a sentence. With an, exclamination mark at the end')\n",
    "found_2=pattern_2.findall('This is a sentence. With an, exclamination mark at the end')\n",
    "print(found_1)\n",
    "print(found_2)"
   ]
  },
  {
   "cell_type": "markdown",
   "metadata": {},
   "source": [
    "##### \\d - look for any digit 0-9<br/>\\D - look for anything that isnt a digit"
   ]
  },
  {
   "cell_type": "code",
   "execution_count": 71,
   "metadata": {},
   "outputs": [
    {
     "name": "stdout",
     "output_type": "stream",
     "text": [
      "['7th', '27th', '3rd', '1st', '30th']\n",
      "['7t', '20 ', '27t', '3r', '1s', '30t']\n"
     ]
    }
   ],
   "source": [
    "pattern_nums=re.compile('\\d{1,2}[a-z]{2}')\n",
    "found_date=pattern_nums.findall('To day is the 7th in 20 days it will be 27th. 3rd, 1st , 30th')\n",
    "print(found_date)\n",
    "\n",
    "pattern_nums=re.compile('\\d{1,2}[\\D]{2}')\n",
    "found_date=pattern_nums.findall('To day is the 7th in 20 days it will be 27th. 3rd, 1st , 30th')\n",
    "print(found_date)"
   ]
  },
  {
   "cell_type": "markdown",
   "metadata": {},
   "source": [
    "##### \\s - look for any white space<br/>\\S - look for anything that isnt whitespace"
   ]
  },
  {
   "cell_type": "code",
   "execution_count": 73,
   "metadata": {},
   "outputs": [
    {
     "name": "stdout",
     "output_type": "stream",
     "text": [
      "[' ', ' ', ' ', ' ', ' ']\n",
      "['Are', 'you', 'afraid', 'of', 'the', 'dark']\n"
     ]
    }
   ],
   "source": [
    "pattern_no_space=re.compile('\\S[a-z]+')\n",
    "pattern_space=re.compile('\\s+')\n",
    "\n",
    "found_space=pattern_space.findall('Are you afraid of the dark?')\n",
    "found_no_space=pattern_no_space.findall('Are you afraid of the dark?')\n",
    "print(found_space)\n",
    "print(found_no_space)                                       \n",
    "                                        \n",
    "                                        \n"
   ]
  },
  {
   "cell_type": "markdown",
   "metadata": {},
   "source": [
    "##### \\b - look for boundaries or edges of a word<br/>\\B - look for anything that isnt a boundary"
   ]
  },
  {
   "cell_type": "code",
   "execution_count": 75,
   "metadata": {},
   "outputs": [
    {
     "name": "stdout",
     "output_type": "stream",
     "text": [
      "[]\n",
      "['TheCodingTemple']\n"
     ]
    }
   ],
   "source": [
    "pattern_bound=re.compile(r'\\bTheCodingTemple\\b')\n",
    "pattern_bound_none=re.compile(r'\\BTheCodingTemple\\B')\n",
    "\n",
    "no_found_bound=pattern_bound_none.findall('TheCodingTemple')\n",
    "print(no_found_bound)\n",
    "\n",
    "found_bound=pattern_bound.findall('TheCodingTemple')\n",
    "print(found_bound)"
   ]
  },
  {
   "cell_type": "markdown",
   "metadata": {},
   "source": [
    "### Grouping"
   ]
  },
  {
   "cell_type": "code",
   "execution_count": 5,
   "metadata": {},
   "outputs": [
    {
     "name": "stdout",
     "output_type": "stream",
     "text": [
      "('Max', 'Smith')\n",
      "Not a name\n",
      "('Sam', 'Dornold')\n",
      "('LeBroon', 'James')\n",
      "('Micheal', 'Jordan')\n",
      "('Kevin', 'Durant')\n",
      "('Patrick', 'McCormick')\n"
     ]
    }
   ],
   "source": [
    "my_string_again=\"Max Smith , aaron rogers , Sam Dornold , LeBroon James , Micheal Jordan , Kevin Durant, Patrick McCormick\"\n",
    "\n",
    "# Group of names regular Expression Compiler\n",
    "pattern_name= re.compile('([A-Z][a-zA-Za-z]+) ([A-Z][A-Za-z]+)')\n",
    "found_names=pattern_name.findall(my_string_again)\n",
    "\n",
    "#print(found_names)\n",
    "#print(my_string_again.split(','))\n",
    "for name in my_string_again.split(','):\n",
    "    match= pattern_name.search(name)\n",
    "    \n",
    "    if match:\n",
    "        print(match.groups(2))\n",
    "    else:\n",
    "        print('Not a name')\n"
   ]
  },
  {
   "cell_type": "markdown",
   "metadata": {},
   "source": [
    "##### In-class Exercise 2:\n",
    "\n",
    "Write a function using regular expressions to find the domain name in the given email addresses (and return None for the invalid email addresses)<br><b>HINT: Use '|' for either or</b>"
   ]
  },
  {
   "cell_type": "code",
   "execution_count": 42,
   "metadata": {},
   "outputs": [
    {
     "name": "stdout",
     "output_type": "stream",
     "text": [
      "jordanw@codingtemple.orgcom\n",
      "pocohontas1776@gmail.com\n",
      "helloworld@aol..com\n",
      "yourfavoriteband@g6.org\n",
      "None\n"
     ]
    }
   ],
   "source": [
    "\n",
    "\n",
    "import re   \n",
    "my_emails = [\"jordanw@codingtemple.orgcom\", \"pocohontas1776@gmail.com\", \"helloworld@aol..com\", \"yourfavoriteband@g6.org\", \"@codingtemple.com\"]  \n",
    "   \n",
    "pattern_email= re.compile('^([a-zA-Z0-9_\\.-]+)@([a-zA-Z0-9_\\.-]+)\\.([a-zA-Z\\.]{2,6})$')\n",
    "\n",
    "def find(email):\n",
    "    find_email=pattern_email.findall(email)\n",
    "  \n",
    "    if(find_email):   \n",
    "        return email   \n",
    "    else:   \n",
    "        return None \n",
    "\n",
    "for i in my_emails:\n",
    "    vaild_email=find(i)\n",
    "    print(vaild_email)\n",
    "   \n",
    "\n",
    "    \n",
    "    \n",
    "# You can also use the $ at the end of your compile expression -- this stops the search\n",
    "\n",
    "#.com OR .org => com|org\n",
    "\n",
    "#Expected output:\n",
    "#None\n",
    "#pocohontas1776@gmail.com\n",
    "#None\n",
    "#yourfavoriteband@g6.org\n",
    "#None\n",
    "\n",
    "\n"
   ]
  },
  {
   "cell_type": "markdown",
   "metadata": {},
   "source": [
    "### Opening a File <br>\n",
    "<p>Python gives us a couple ways to import files, below are the two used most often.</p>"
   ]
  },
  {
   "cell_type": "markdown",
   "metadata": {},
   "source": [
    "##### open()"
   ]
  },
  {
   "cell_type": "code",
   "execution_count": 134,
   "metadata": {},
   "outputs": [
    {
     "name": "stdout",
     "output_type": "stream",
     "text": [
      "﻿Hawkins, Derek        derek@codingtemple.com        (555) 555-5555        Teacher, Coding Temple        @derekhawkins\n",
      "Zhai, Mo        mozhai@codingtemple.com        (555) 555-5554        Teacher, Coding Temple\n",
      "Johnson, Joe        joejohnson@codingtemple.com                Johson, Joe\n",
      "Osterberg, Sven-Erik        governor@norrbotten.co.se                Governor, Norrbotten        @sverik\n",
      ", Tim        tim@killerrabbit.com                Enchanter, Killer Rabbit Cave\n",
      "Butz, Ryan        ryanb@codingtemple.com        (555) 555-5543        CEO, Coding Temple        @ryanbutz\n",
      "Doctor, The        doctor+companion@tardis.co.uk                Time Lord, Gallifrey\n",
      "Exampleson, Example        me@example.com        555-555-5552        Example, Example Co.        @example\n",
      "Pael, Ripal        ripalp@codingtemple.com        (555) 555-5553        Teacher, Coding Temple        @ripalp\n",
      "Vader, Darth        darth-vader@empire.gov        (555) 555-4444        Sith Lord, Galactic Empire        @darthvader\n",
      "Fernandez de la Vega Sanz, Maria Teresa        mtfvs@spain.gov                First Deputy Prime Minister, Spanish Gov\n"
     ]
    }
   ],
   "source": [
    "f=open('names.txt')\n",
    "data=f.read()\n",
    "print(data)\n",
    "#f.close()"
   ]
  },
  {
   "cell_type": "markdown",
   "metadata": {},
   "source": [
    "##### with open()"
   ]
  },
  {
   "cell_type": "code",
   "execution_count": 4,
   "metadata": {},
   "outputs": [],
   "source": [
    "with open('names.txt','r') as f:\n",
    "    data=f.read\n"
   ]
  },
  {
   "cell_type": "code",
   "execution_count": 5,
   "metadata": {},
   "outputs": [
    {
     "data": {
      "text/plain": [
       "<function TextIOWrapper.read(size=-1, /)>"
      ]
     },
     "execution_count": 5,
     "metadata": {},
     "output_type": "execute_result"
    }
   ],
   "source": [
    "data"
   ]
  },
  {
   "cell_type": "markdown",
   "metadata": {},
   "source": [
    "##### re.match()"
   ]
  },
  {
   "cell_type": "code",
   "execution_count": 30,
   "metadata": {},
   "outputs": [],
   "source": [
    "#print(re.match(r'Hawkins, Derek', data))\n"
   ]
  },
  {
   "cell_type": "markdown",
   "metadata": {},
   "source": [
    "##### re.search()"
   ]
  },
  {
   "cell_type": "code",
   "execution_count": 29,
   "metadata": {},
   "outputs": [],
   "source": [
    "#print(re.search(r'derek@codingtemple.com', data))"
   ]
  },
  {
   "cell_type": "markdown",
   "metadata": {},
   "source": [
    "##### Store the String to a Variable"
   ]
  },
  {
   "cell_type": "code",
   "execution_count": null,
   "metadata": {},
   "outputs": [],
   "source": [
    "answer= input(\"what do you get help with\")\n",
    "found=re.findall(answer, data)\n",
    "if found:\n",
    "    print(f'I found your data:{found}')\n",
    "else:\n",
    "    print(f'Nothing is here')"
   ]
  },
  {
   "cell_type": "code",
   "execution_count": null,
   "metadata": {},
   "outputs": [],
   "source": [
    "names_people = [\n",
    "    {'full_name': 'Derek Hawkins', 'twitter_handle': '@derekhawkins'},\n",
    "    {'full_name': 'Erik Sven-Osterberg', 'twitter_handle': '@sverik'},\n",
    "    {'full_name': 'Ryan Butz', 'twitter_handle': '@ryanbutz'},\n",
    "    {'full_name': 'Example Exampleson', 'twitter_handle': '@example'},\n",
    "    {'full_name': 'Ripal Pael', 'twitter_handle': '@ripalp'},\n",
    "    {'full_name': 'Darth Vader', 'twitter_handle': '@darthvader'}\n",
    "]\n",
    "\n",
    "for person in names_people:\n",
    "    pattern_name = re.compile(r'(.*)\\s(.*)')\n",
    "    match=pattern_name.match(person['full_name'])\n",
    "    first_name = match.group(1)\n",
    "    last_name = match.group(2)\n",
    "\n",
    "    print('==============')\n",
    "    print(f'{first_name} {last_name} / {person[\"twitter_handle\"]}')"
   ]
  },
  {
   "cell_type": "markdown",
   "metadata": {},
   "source": [
    "### In-Class Exercise #3 <br>\n",
    "<p>Print each persons name and twitter handle, using groups, should look like:</p>\n",
    "<p>==============<br>\n",
    "   Full Name / Twitter<br>\n",
    "   ==============</p>\n",
    "Derek Hawkins / @derekhawkins\n",
    "\n",
    " Erik Sven-Osterberg / @sverik\n",
    "\n",
    " Ryan Butz / @ryanbutz\n",
    "\n",
    " Example Exampleson / @example\n",
    "\n",
    " Ripal Pael / @ripalp\n",
    "\n",
    " Darth Vader / @darthvader"
   ]
  },
  {
   "cell_type": "code",
   "execution_count": 18,
   "metadata": {},
   "outputs": [
    {
     "name": "stdout",
     "output_type": "stream",
     "text": [
      "===========================\n",
      "Full Name / Twitter\n",
      "===========================\n",
      "Derek Hawkins / @derekhawkins\n",
      "Sven-Erik Osterberg / @sverik\n",
      "Ryan Butz / @ryanbutz\n",
      "Example Exampleson / @example\n",
      "Ripal Pael / @ripalp\n",
      "Darth Vader / @darthvader\n"
     ]
    }
   ],
   "source": [
    "import re\n",
    "with open('names.txt') as f:\n",
    "    data = f.readlines()\n",
    "    \n",
    "name = re.compile('(?P<last>[A-Z][A-Za-z]+), (?P<first>[A-Z][A-Za-z]+-?[A-Za-z]+)')\n",
    "twitter_handle = re.compile('(?P<twitter>@\\w+)\\s')\n",
    "print(\"===========================\")\n",
    "print(\"Full Name / Twitter\")\n",
    "print(\"===========================\")\n",
    "for line in data:\n",
    "    match = full_name.search(line)\n",
    "    match_2 = twitter_handle.search(line)\n",
    "     \n",
    "    if match and match_2:\n",
    "       \n",
    "        print(f\"{match.group('first')} {match.group('last')} / {match_2.group('twitter')}\")"
   ]
  },
  {
   "cell_type": "code",
   "execution_count": 31,
   "metadata": {
    "scrolled": true
   },
   "outputs": [],
   "source": [
    "# names_people = [\n",
    "#     {'full_name': 'Derek Hawkins', 'twitter_handle': '@derekhawkins'},\n",
    "#     {'full_name': 'Erik Sven-Osterberg', 'twitter_handle': '@sverik'},\n",
    "#     {'full_name': 'Ryan Butz', 'twitter_handle': '@ryanbutz'},\n",
    "#     {'full_name': 'Example Exampleson', 'twitter_handle': '@example'},\n",
    "#     {'full_name': 'Ripal Pael', 'twitter_handle': '@ripalp'},\n",
    "#     {'full_name': 'Darth Vader', 'twitter_handle': '@darthvader'}\n",
    "# ]\n",
    "\n",
    "# for person in names_people:\n",
    "#     pattern_name = re.compile(r'(.*)\\s(.*)')\n",
    "#     match=pattern_name.match(person['full_name'])\n",
    "#     first_name = match.group(1)\n",
    "#     last_name = match.group(2)\n",
    "\n",
    "#     print('==============')\n",
    "#     print(f'{first_name} {last_name} / {person[\"twitter_handle\"]}')"
   ]
  },
  {
   "cell_type": "markdown",
   "metadata": {},
   "source": [
    "### Regex project\n",
    "\n",
    "Use python to read the file regex_test.txt and print the Full name on each line using regular expressions and groups (return None for names with no first and last name, or names that aren't properly capitalized)\n",
    "##### Hint: use with open() and readlines()"
   ]
  },
  {
   "cell_type": "code",
   "execution_count": 28,
   "metadata": {},
   "outputs": [
    {
     "name": "stdout",
     "output_type": "stream",
     "text": [
      "Abraham Lincoln\n",
      "\n",
      "Andrew P Garfield\n",
      "Connor Milliken\n",
      "\n",
      "Jordan Alexander Williams\n",
      "None\n",
      "None\n"
     ]
    }
   ],
   "source": [
    "\n",
    "    \n",
    "with open('regex_test.txt') as f:\n",
    "    txt = f.readlines()\n",
    "\n",
    "pattern=re.compile(r'[A-Z][a-z]*\\s[A-Za-z]*\\s[A-aZ-z]*')    \n",
    "for line in txt:\n",
    "    match = pattern.match(line)\n",
    "    if match:\n",
    "          print(f'{match.group(0)}')\n",
    "    else:\n",
    "        print('None')\n",
    "        \n",
    "\n",
    "\n",
    "# \"\"\"\n",
    "# Expected Output\n",
    "# Abraham Lincoln\n",
    "# Andrew P Garfield\n",
    "# Connor Milliken\n",
    "# Jordan Alexander Williams\n",
    "# None\n",
    "# None\n",
    "# \"\"\""
   ]
  },
  {
   "cell_type": "code",
   "execution_count": null,
   "metadata": {},
   "outputs": [],
   "source": []
  }
 ],
 "metadata": {
  "kernelspec": {
   "display_name": "Python 3 (ipykernel)",
   "language": "python",
   "name": "python3"
  },
  "language_info": {
   "codemirror_mode": {
    "name": "ipython",
    "version": 3
   },
   "file_extension": ".py",
   "mimetype": "text/x-python",
   "name": "python",
   "nbconvert_exporter": "python",
   "pygments_lexer": "ipython3",
   "version": "3.11.5"
  }
 },
 "nbformat": 4,
 "nbformat_minor": 2
}
